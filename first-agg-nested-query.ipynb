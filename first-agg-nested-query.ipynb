{
 "cells": [
  {
   "cell_type": "markdown",
   "metadata": {
    "pycharm": {
     "name": "#%% md\n"
    }
   },
   "source": [
    "# Ingest data"
   ]
  },
  {
   "cell_type": "code",
   "execution_count": 28,
   "metadata": {
    "pycharm": {
     "name": "#%%\n"
    }
   },
   "outputs": [
    {
     "name": "stdout",
     "output_type": "stream",
     "text": [
      "Task started: index_stuff_gfndhhgo_2022-09-12T21:48:01.468Z\n",
      "Task log:     http://localhost:8081/druid/indexer/v1/task/index_stuff_gfndhhgo_2022-09-12T21:48:01.468Z/log\n",
      "Task status:  http://localhost:8081/druid/indexer/v1/task/index_stuff_gfndhhgo_2022-09-12T21:48:01.468Z/status\n",
      "Task index_stuff_gfndhhgo_2022-09-12T21:48:01.468Z still running...\n",
      "Task finished with status: SUCCESS\n",
      "stuff loading complete! You may now query your data\n"
     ]
    }
   ],
   "source": [
    "import json\n",
    "import sys\n",
    "\n",
    "import druid\n",
    "\n",
    "task = {\n",
    "  \"type\": \"index\",\n",
    "  \"spec\": {\n",
    "    \"dataSchema\": {\n",
    "      \"dataSource\": \"stuff\",\n",
    "      \"timestampSpec\": {},\n",
    "      \"dimensionsSpec\": {},\n",
    "      \"metricsSpec\": [\n",
    "        {\n",
    "          \"type\": \"doubleSum\",\n",
    "          \"name\": \"value_sum\",\n",
    "          \"fieldName\": \"value\"\n",
    "        }\n",
    "      ],\n",
    "      \"granularitySpec\": {\n",
    "        \"rollup\": True\n",
    "      },\n",
    "      \"transformSpec\": {}\n",
    "    },\n",
    "    \"ioConfig\": {\n",
    "      \"type\": \"index\",\n",
    "      \"inputSource\": {\n",
    "        \"type\": \"inline\",\n",
    "        \"data\": \"FILL_IN\"\n",
    "      },\n",
    "      \"inputFormat\": {\n",
    "        \"type\": \"csv\",\n",
    "        \"columns\": [\n",
    "          \"timestamp\",\n",
    "          \"color\",\n",
    "          \"value\"\n",
    "        ]\n",
    "      }\n",
    "    }\n",
    "  }\n",
    "}\n",
    "task['spec']['ioConfig']['inputSource']['data'] = '\\n'.join([\n",
    "  '2022-01-01T00:01:00.000Z,red,1.0',\n",
    "  '2022-01-01T00:02:00.000Z,blue,2.0',\n",
    "  '2022-01-01T00:03:00.000Z,red,3.0',\n",
    "  '2022-01-01T00:04:00.000Z,blue,4.0'\n",
    "])\n",
    "datasource = task[\"spec\"][\"dataSchema\"][\"dataSource\"]\n",
    "\n",
    "task_id = druid.post_task(task)\n",
    "druid.await_task_completion(task_id, timeout=60)\n",
    "druid.await_load_completion(datasource, timeout=120)"
   ]
  },
  {
   "cell_type": "code",
   "execution_count": 29,
   "metadata": {
    "collapsed": true,
    "pycharm": {
     "name": "#%%\n"
    }
   },
   "outputs": [
    {
     "data": {
      "text/plain": [
       "[{'__time': '2022-01-01T00:01:00.000Z', 'color': 'red', 'value_sum': 1.0},\n",
       " {'__time': '2022-01-01T00:02:00.000Z', 'color': 'blue', 'value_sum': 2.0},\n",
       " {'__time': '2022-01-01T00:03:00.000Z', 'color': 'red', 'value_sum': 3.0},\n",
       " {'__time': '2022-01-01T00:04:00.000Z', 'color': 'blue', 'value_sum': 4.0}]"
      ]
     },
     "execution_count": 29,
     "metadata": {},
     "output_type": "execute_result"
    }
   ],
   "source": [
    "druid.query_sql(\"\"\"\n",
    "  select *\n",
    "  from stuff\n",
    "\"\"\")"
   ]
  },
  {
   "cell_type": "markdown",
   "metadata": {
    "pycharm": {
     "name": "#%% md\n"
    }
   },
   "source": [
    "# SQL query with `max` and `earliest`"
   ]
  },
  {
   "cell_type": "code",
   "execution_count": 30,
   "metadata": {
    "pycharm": {
     "name": "#%%\n"
    }
   },
   "outputs": [
    {
     "data": {
      "text/plain": [
       "[{'EXPR$0': 4.0, 'EXPR$1': 1.0}]"
      ]
     },
     "execution_count": 30,
     "metadata": {},
     "output_type": "execute_result"
    }
   ],
   "source": [
    "druid.query_sql(\"\"\"\n",
    "  select max(value_sum), earliest(value_sum)\n",
    "  from stuff\n",
    "\"\"\")"
   ]
  },
  {
   "cell_type": "markdown",
   "metadata": {
    "pycharm": {
     "name": "#%% md\n"
    }
   },
   "source": [
    "# Define native queries"
   ]
  },
  {
   "cell_type": "code",
   "execution_count": 31,
   "metadata": {
    "pycharm": {
     "name": "#%%\n"
    }
   },
   "outputs": [],
   "source": [
    "inner_query = {\n",
    "  \"dataSource\": \"stuff\",\n",
    "  \"queryType\": \"timeseries\",\n",
    "  \"intervals\": [\n",
    "    \"2022-01-01T00:00:00.000Z/PT5M\"\n",
    "  ],\n",
    "  \"granularity\": \"all\",\n",
    "  \"aggregations\": [\n",
    "    {\n",
    "      \"type\": \"doubleFirst\",\n",
    "      \"name\": \"earliest\",\n",
    "      \"fieldName\": \"value_sum\"\n",
    "    },\n",
    "    {\n",
    "      \"type\": \"doubleMax\",\n",
    "      \"name\": \"max\",\n",
    "      \"fieldName\": \"value_sum\"\n",
    "    }\n",
    "  ]\n",
    "}\n",
    "\n",
    "nested_query = {\n",
    "  \"dataSource\": {\n",
    "    \"type\": \"query\",\n",
    "    \"query\": inner_query\n",
    "  },\n",
    "  \"queryType\": \"timeseries\",\n",
    "  \"granularity\": \"all\",\n",
    "  \"aggregations\": [\n",
    "    {\n",
    "      \"type\": \"doubleAny\",\n",
    "      \"name\": \"earliest\",\n",
    "      \"fieldName\": \"earliest\"\n",
    "    },\n",
    "    {\n",
    "      \"type\": \"doubleAny\",\n",
    "      \"name\": \"max\",\n",
    "      \"fieldName\": \"max\"\n",
    "    },\n",
    "  ],\n",
    "  \"intervals\": [ \"2022-01-01T00:00:00.000Z/PT5M\" ],\n",
    "  \"dimensions\": []\n",
    "}"
   ]
  },
  {
   "cell_type": "markdown",
   "metadata": {
    "pycharm": {
     "name": "#%% md\n"
    }
   },
   "source": [
    "# Native query: `timeseries`"
   ]
  },
  {
   "cell_type": "code",
   "execution_count": 32,
   "metadata": {
    "pycharm": {
     "name": "#%%\n"
    }
   },
   "outputs": [
    {
     "name": "stdout",
     "output_type": "stream",
     "text": [
      "Inner:  [{'timestamp': '2022-01-01T00:01:00.000Z', 'result': {'earliest': 1.0, 'max': 4.0}}]\n",
      "Nested: [{'timestamp': '2022-01-01T00:00:00.000Z', 'result': {'max': 4.0, 'earliest': 1.0}}]\n"
     ]
    }
   ],
   "source": [
    "print(f'Inner:  {druid.query(inner_query)}')\n",
    "print(f'Nested: {druid.query(nested_query)}')"
   ]
  },
  {
   "cell_type": "markdown",
   "metadata": {
    "pycharm": {
     "name": "#%% md\n"
    }
   },
   "source": [
    "# Native query: `groupBy`"
   ]
  },
  {
   "cell_type": "code",
   "execution_count": 33,
   "metadata": {
    "pycharm": {
     "name": "#%%\n"
    }
   },
   "outputs": [
    {
     "name": "stdout",
     "output_type": "stream",
     "text": [
      "Inner:  [{'version': 'v1', 'timestamp': '2022-01-01T00:00:00.000Z', 'event': {'max': 4.0, 'earliest': 1.0}}]\n",
      "Nested: [{'version': 'v1', 'timestamp': '2022-01-01T00:00:00.000Z', 'event': {'max': 4.0, 'earliest': 0.0}}]\n"
     ]
    }
   ],
   "source": [
    "inner_query['queryType'] = 'groupBy'\n",
    "nested_query['queryType']= 'groupBy'\n",
    "nested_query['dataSource']['query'] = inner_query\n",
    "\n",
    "print(f'Inner:  {druid.query(inner_query)}')\n",
    "print(f'Nested: {druid.query(nested_query)}')"
   ]
  },
  {
   "cell_type": "markdown",
   "metadata": {
    "pycharm": {
     "name": "#%% md\n"
    }
   },
   "source": [
    "### <span style=\"color:red\">Note the `earliest: 0.0` in the result</span>👆"
   ]
  },
  {
   "cell_type": "markdown",
   "metadata": {
    "pycharm": {
     "name": "#%% md\n"
    }
   },
   "source": [
    "# Native query: `groupBy` with `stringAny` outer agg"
   ]
  },
  {
   "cell_type": "code",
   "execution_count": 34,
   "metadata": {
    "pycharm": {
     "name": "#%%\n"
    }
   },
   "outputs": [
    {
     "name": "stdout",
     "output_type": "stream",
     "text": [
      "Inner:  [{'version': 'v1', 'timestamp': '2022-01-01T00:00:00.000Z', 'event': {'max': 4.0, 'earliest': 1.0}}]\n",
      "Nested: [{'version': 'v1', 'timestamp': '2022-01-01T00:00:00.000Z', 'event': {'max': '4.0', 'earliest': 'Pair{lhs=1640995260000, rhs=1.0}'}}]\n"
     ]
    }
   ],
   "source": [
    "for agg in nested_query['aggregations']:\n",
    "  agg['type'] = 'stringAny'\n",
    "\n",
    "print(f'Inner:  {druid.query(inner_query)}')\n",
    "print(f'Nested: {druid.query(nested_query)}')\n"
   ]
  },
  {
   "cell_type": "markdown",
   "metadata": {
    "pycharm": {
     "name": "#%% md\n"
    }
   },
   "source": [
    "### Note the `Pair` in the result 👆\n"
   ]
  }
 ],
 "metadata": {
  "kernelspec": {
   "display_name": "Python 3 (ipykernel)",
   "language": "python",
   "name": "python3"
  },
  "language_info": {
   "codemirror_mode": {
    "name": "ipython",
    "version": 3
   },
   "file_extension": ".py",
   "mimetype": "text/x-python",
   "name": "python",
   "nbconvert_exporter": "python",
   "pygments_lexer": "ipython3",
   "version": "3.10.6"
  }
 },
 "nbformat": 4,
 "nbformat_minor": 1
}
